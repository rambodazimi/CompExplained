{
 "cells": [
  {
   "cell_type": "code",
   "execution_count": 7,
   "metadata": {},
   "outputs": [],
   "source": [
    "# CompExplained YouTube Channel\n",
    "# Author: Rambod Azimi\n",
    "\n",
    "import numpy as np"
   ]
  },
  {
   "cell_type": "code",
   "execution_count": 19,
   "metadata": {},
   "outputs": [
    {
     "name": "stdout",
     "output_type": "stream",
     "text": [
      "<class 'list'>\n",
      "<class 'numpy.ndarray'>\n"
     ]
    }
   ],
   "source": [
    "# Array\n",
    "arr = np.array([1, 2, 3, 4, 5])\n",
    "\n",
    "my_list = [1, 2, 3, 4, 5]\n",
    "\n",
    "print(type(my_list))\n",
    "print(type(arr))"
   ]
  },
  {
   "cell_type": "code",
   "execution_count": 25,
   "metadata": {},
   "outputs": [
    {
     "name": "stdout",
     "output_type": "stream",
     "text": [
      "100\n",
      "[1 2 3]\n",
      "[[1 2 3]\n",
      " [4 5 6]\n",
      " [7 8 9]]\n",
      "[[[1, 2, 3], [4, 5, 6]], [[1, 2, 3], [4, 5, 6]]]\n"
     ]
    }
   ],
   "source": [
    "# 0-D Array\n",
    "arr_0d = np.array(100)\n",
    "print(arr_0d)\n",
    "\n",
    "# 1-D Array\n",
    "arr_1d = np.array([1, 2, 3])\n",
    "print(arr_1d)\n",
    "\n",
    "# 2-D Array (Matrix)\n",
    "arr_2d = np.array([[1, 2, 3], \n",
    "                   [4, 5, 6], \n",
    "                   [7, 8, 9]])\n",
    "print(arr_2d)\n",
    "\n",
    "# 3-D Array\n",
    "arr_3d = ([[[1, 2, 3], [4, 5, 6]], [[1, 2, 3], [4, 5, 6]]])\n",
    "print(arr_3d)\n",
    "\n",
    "# Higher Dimensional Arrays\n",
    "# ..."
   ]
  },
  {
   "cell_type": "code",
   "execution_count": 40,
   "metadata": {},
   "outputs": [
    {
     "name": "stdout",
     "output_type": "stream",
     "text": [
      "1\n",
      "4\n",
      "7\n"
     ]
    }
   ],
   "source": [
    "# Array Indexing\n",
    "arr = np.array([1, 2, 3, 4])\n",
    "print(arr[0])\n",
    "\n",
    "print(arr[0] + arr[2])\n",
    "\n",
    "# 2-D Array\n",
    "arr_2d = np.array([[1, 2, 3], \n",
    "                   [4, 5, 6], \n",
    "                   [7, 8, 9]])\n",
    "print(arr_2d[2, 0])\n",
    "\n",
    "# 3-D Array\n",
    "# arr[2, 4, 1]"
   ]
  },
  {
   "cell_type": "code",
   "execution_count": 47,
   "metadata": {},
   "outputs": [
    {
     "name": "stdout",
     "output_type": "stream",
     "text": [
      "[2 3 4]\n",
      "[1 2 3 4]\n",
      "[5 6 7 8]\n",
      "[6 7]\n"
     ]
    }
   ],
   "source": [
    "# Slicing\n",
    "# 1. [start:end]\n",
    "# 2. [start:end:step]\n",
    "\n",
    "arr = np.array([1, 2, 3, 4, 5, 6, 7, 8])\n",
    "\n",
    "print(arr[1:4])\n",
    "print(arr[:4])\n",
    "print(arr[4:])\n",
    "print(arr[-3: -1])"
   ]
  },
  {
   "cell_type": "code",
   "execution_count": 52,
   "metadata": {},
   "outputs": [
    {
     "name": "stdout",
     "output_type": "stream",
     "text": [
      "float64\n",
      "<U9\n"
     ]
    }
   ],
   "source": [
    "# NumPy Data Types\n",
    "# strings\n",
    "# integer\n",
    "# float\n",
    "# boolean\n",
    "# complex (2 + 3i)\n",
    "\n",
    "arr = np.array([1.25, 2.0, 3.0, 4.0])\n",
    "\n",
    "arr_2 = np.array(['rambod', 'azimi', 'comp', 'explained'])\n",
    "\n",
    "print(arr.dtype)\n",
    "print(arr_2.dtype)"
   ]
  },
  {
   "cell_type": "code",
   "execution_count": 61,
   "metadata": {},
   "outputs": [
    {
     "name": "stdout",
     "output_type": "stream",
     "text": [
      "()\n",
      "(3,)\n",
      "(4, 3)\n"
     ]
    }
   ],
   "source": [
    "# Shape\n",
    "# 0-D Array\n",
    "arr_0d = np.array(100)\n",
    "print(arr_0d.shape)\n",
    "\n",
    "# 1-D Array\n",
    "arr_1d = np.array([1, 2, 3])\n",
    "print(arr_1d.shape)\n",
    "\n",
    "# 2-D Array (Matrix)\n",
    "arr_2d = np.array([[1, 2, 3], \n",
    "                   [4, 5, 6], \n",
    "                   [7, 8, 9],\n",
    "                   [1, 5, 9]])\n",
    "print(arr_2d.shape)\n",
    "\n",
    "# 3-D Array\n",
    "arr_3d = ([[[1, 2, 3], [4, 5, 6]], [[1, 2, 3], [4, 5, 6]]])\n",
    "# ..."
   ]
  },
  {
   "cell_type": "code",
   "execution_count": 67,
   "metadata": {},
   "outputs": [
    {
     "name": "stdout",
     "output_type": "stream",
     "text": [
      "[[ 1  2  3]\n",
      " [ 4  5  6]\n",
      " [ 7  8  9]\n",
      " [10 11 12]]\n",
      "[[[ 1  2]\n",
      "  [ 3  4]\n",
      "  [ 5  6]]\n",
      "\n",
      " [[ 7  8]\n",
      "  [ 9 10]\n",
      "  [11 12]]]\n"
     ]
    }
   ],
   "source": [
    "# Reshaping\n",
    "\n",
    "# 1D to 2-D\n",
    "arr = np.array([1, 2, 3, 4, 5, 6, 7, 8, 9, 10, 11, 12])\n",
    "new_arr = arr.reshape(4, 3)\n",
    "print(new_arr)\n",
    "\n",
    "# 1D to 3-D\n",
    "new_arr_2 = arr.reshape(2, 3, 2)\n",
    "print(new_arr_2)\n"
   ]
  },
  {
   "cell_type": "code",
   "execution_count": 84,
   "metadata": {},
   "outputs": [
    {
     "name": "stdout",
     "output_type": "stream",
     "text": [
      "arr_1: [-1  2 -3  4  5]\n",
      "arr_2: [2 4 6 8 0]\n",
      "arr_1 type: <class 'numpy.ndarray'>\n",
      "arr_2 type: <class 'numpy.ndarray'>\n",
      "Data type of arr_1: int64\n",
      "Data type of arr_2: int64\n",
      "arr_add: [ 1  6  3 12  5]\n",
      "arr_add: [ 1  6  3 12  5]\n",
      "arr_add_abs: [ 3  6  9 12  5]\n",
      "max: 5\n",
      "min: -3\n",
      "mean_1: 1.4\n",
      "mean_2: 4.0\n",
      "[-1  2 -3  4  5  2  4  6  8  0]\n",
      "[-3 -1  2  4  5]\n",
      "20\n",
      "sum_1: 7\n",
      "sum_2: 20\n"
     ]
    }
   ],
   "source": [
    "arr_1 = np.array([-1, 2, -3, 4, 5])\n",
    "arr_2 = np.array([2, 4, 6, 8, 0])\n",
    "\n",
    "print(f\"arr_1: {arr_1}\")\n",
    "print(f\"arr_2: {arr_2}\")\n",
    "\n",
    "print(f\"arr_1 type: {type(arr_1)}\")\n",
    "print(f\"arr_2 type: {type(arr_2)}\")\n",
    "\n",
    "print(f\"Data type of arr_1: {arr_1.dtype}\")\n",
    "print(f\"Data type of arr_2: {arr_2.dtype}\")\n",
    "\n",
    "# Addition\n",
    "arr_add = np.add(arr_1, arr_2)\n",
    "print(f\"arr_add: {arr_add}\")\n",
    "\n",
    "# Addition - version 2\n",
    "arr_add = arr_1 + arr_2\n",
    "print(f\"arr_add: {arr_add}\")\n",
    "\n",
    "arr_add_abs = np.add(np.abs(arr_1), np.abs(arr_2))\n",
    "print(f\"arr_add_abs: {arr_add_abs}\")\n",
    "\n",
    "max = np.max(arr_1)\n",
    "min = np.min(arr_1)\n",
    "mean_1 = np.mean(arr_1)\n",
    "mean_2 = np.mean(arr_2)\n",
    "print(f\"max: {max}\")\n",
    "print(f\"min: {min}\")\n",
    "print(f\"mean_1: {mean_1}\")\n",
    "print(f\"mean_2: {mean_2}\")\n",
    "\n",
    "arr_app = np.append(arr_1, arr_2)\n",
    "print(arr_app)\n",
    "\n",
    "arr_1_sort = np.sort(arr_1)\n",
    "print(arr_1_sort)\n",
    "\n",
    "dot = np.dot(arr_1, arr_2)\n",
    "print(dot)\n",
    "\n",
    "sum_1 = np.sum(arr_1)\n",
    "sum_2 = np.sum(arr_2)\n",
    "print(f\"sum_1: {sum_1}\")\n",
    "print(f\"sum_2: {sum_2}\")"
   ]
  }
 ],
 "metadata": {
  "kernelspec": {
   "display_name": "Python 3",
   "language": "python",
   "name": "python3"
  },
  "language_info": {
   "codemirror_mode": {
    "name": "ipython",
    "version": 3
   },
   "file_extension": ".py",
   "mimetype": "text/x-python",
   "name": "python",
   "nbconvert_exporter": "python",
   "pygments_lexer": "ipython3",
   "version": "3.10.7"
  }
 },
 "nbformat": 4,
 "nbformat_minor": 2
}

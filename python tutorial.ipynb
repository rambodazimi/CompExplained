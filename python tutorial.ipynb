{
 "cells": [
  {
   "cell_type": "code",
   "execution_count": 1,
   "metadata": {},
   "outputs": [
    {
     "name": "stdout",
     "output_type": "stream",
     "text": [
      "Hello, World!\n"
     ]
    }
   ],
   "source": [
    "# first chapter of python\n",
    "# CompExplained YouTube Channel\n",
    "# Author: Rambod Azimi\n",
    "\n",
    "print(\"Hello, World!\") # my comment!\n",
    "\n",
    "#print(\"Comp Exmplained\")\n",
    "\n",
    "#print(\"Rambod Azimi. Rambod Azimi. Rambod Azimi. Rambod Azimi. Rambod Azimi. Rambod Azimi. Rambod Azimi. Rambod Azimi. Rambod Azimi. Rambod Azimi. Rambod Azimi. Rambod Azimi. Rambod Azimi. Rambod Azimi. Rambod Azimi. Rambod Azimi. Rambod Azimi. Rambod Azimi. Rambod Azimi. Rambod Azimi. Rambod Azimi. Rambod Azimi. Rambod Azimi. Rambod Azimi. \")"
   ]
  },
  {
   "cell_type": "code",
   "execution_count": 2,
   "metadata": {},
   "outputs": [
    {
     "name": "stdout",
     "output_type": "stream",
     "text": [
      "inside if\n",
      "Hello, World!\n"
     ]
    }
   ],
   "source": [
    "# indentation\n",
    "if 5 > 2:\n",
    "    # do something\n",
    "    print(\"inside if\")\n",
    "\n",
    "print(\"Hello, World!\") # my comment!\n"
   ]
  },
  {
   "cell_type": "code",
   "execution_count": 3,
   "metadata": {},
   "outputs": [
    {
     "name": "stdout",
     "output_type": "stream",
     "text": [
      "Salam\n",
      "Salam\n",
      "Salam\n",
      "Salam\n"
     ]
    }
   ],
   "source": [
    "# white spaces\n",
    "if 5 > 2:\n",
    "    print(\"Salam\")\n",
    "\n",
    "if 5  > 2:\n",
    "    print(\"Salam\")\n",
    "\n",
    "if 5>2:\n",
    "    print(\"Salam\")\n",
    "\n",
    "if 5 > 2:\n",
    "    print(\"Salam\")"
   ]
  },
  {
   "cell_type": "code",
   "execution_count": 4,
   "metadata": {},
   "outputs": [
    {
     "name": "stdout",
     "output_type": "stream",
     "text": [
      "3.14\n",
      "Rambod Azimi\n",
      "c\n",
      "False\n"
     ]
    }
   ],
   "source": [
    "# Variable\n",
    "# variable_name = value\n",
    "\n",
    "x = 6 # int\n",
    "# Java/C: int x = 6;\n",
    "\n",
    "pi = 3.14 # floating point numbers\n",
    "print(pi)\n",
    "# Java/C: double pi = 3.14;\n",
    "\n",
    "name = \"Rambod Azimi\" # string\n",
    "name = 'Rambod Azimi' # string 2 (same!)\n",
    "print(name)\n",
    "\n",
    "char = 'c' # character\n",
    "print(char)\n",
    "\n",
    "my_bool = False # boolean\n",
    "print(my_bool)"
   ]
  },
  {
   "cell_type": "code",
   "execution_count": 5,
   "metadata": {},
   "outputs": [
    {
     "name": "stdout",
     "output_type": "stream",
     "text": [
      "Rambod Azimi 24 12345\n",
      "Welcome Rambod Azimi! You are 24 years old and your student number is 12345\n"
     ]
    }
   ],
   "source": [
    "# example: university portal\n",
    "first_name = \"Rambod\"\n",
    "last_name = \"Azimi\"\n",
    "age = 24\n",
    "student_number = \"12345\"\n",
    "\n",
    "print(first_name, last_name, age, student_number)\n",
    "\n",
    "# better way!\n",
    "print(f\"Welcome {first_name} {last_name}! You are {age} years old and your student number is {student_number}\")"
   ]
  },
  {
   "cell_type": "code",
   "execution_count": 6,
   "metadata": {},
   "outputs": [
    {
     "name": "stdout",
     "output_type": "stream",
     "text": [
      "<class 'str'>\n",
      "<class 'int'>\n",
      "<class 'float'>\n"
     ]
    }
   ],
   "source": [
    "# Casting\n",
    "x = str(3) # x will be \"3\"\n",
    "y = int(3) # y will be 3\n",
    "z = float(3) # z will be 3.0\n",
    "\n",
    "print(type(x))\n",
    "print(type(y))\n",
    "print(type(z))"
   ]
  },
  {
   "cell_type": "code",
   "execution_count": 7,
   "metadata": {},
   "outputs": [
    {
     "name": "stdout",
     "output_type": "stream",
     "text": [
      "Rambod\n"
     ]
    }
   ],
   "source": [
    "# Case-sensitive\n",
    "first_name = \"Rambod\"\n",
    "print(first_name)"
   ]
  },
  {
   "cell_type": "code",
   "execution_count": 8,
   "metadata": {},
   "outputs": [
    {
     "name": "stdout",
     "output_type": "stream",
     "text": [
      "16\n",
      "4\n",
      "60\n",
      "1.6666666666666667\n",
      "1\n"
     ]
    }
   ],
   "source": [
    "# Operator\n",
    "# + - * / % ** //\n",
    "x = 10\n",
    "y = 6\n",
    "\n",
    "# +\n",
    "print(x + y)\n",
    "\n",
    "# -\n",
    "print(x - y)\n",
    "\n",
    "# *\n",
    "print(x * y)\n",
    "\n",
    "# /\n",
    "print(x / y)\n",
    "\n",
    "# //\n",
    "print(x // y)"
   ]
  },
  {
   "cell_type": "code",
   "execution_count": 9,
   "metadata": {},
   "outputs": [
    {
     "name": "stdout",
     "output_type": "stream",
     "text": [
      "15\n",
      "-5\n",
      "60\n"
     ]
    }
   ],
   "source": [
    "# Assignment Operators\n",
    "x = 10\n",
    "x += 5 \n",
    "print(x)\n",
    "\n",
    "y = 5\n",
    "y -= 10\n",
    "print(y)\n",
    "\n",
    "z = 30\n",
    "z *= 2\n",
    "print(z)"
   ]
  },
  {
   "cell_type": "code",
   "execution_count": 10,
   "metadata": {},
   "outputs": [
    {
     "name": "stdout",
     "output_type": "stream",
     "text": [
      "True\n",
      "False\n",
      "False\n",
      "True\n",
      "True\n",
      "False\n"
     ]
    }
   ],
   "source": [
    "# Comparison Operators\n",
    "# == -> equal\n",
    "# != -> not equal\n",
    "# < <= > >=\n",
    "\n",
    "# examples\n",
    "x = 10\n",
    "y = 5\n",
    "\n",
    "print(x > y) # print (10 > 5)\n",
    "print(x < y)\n",
    "print(x == y)\n",
    "print(x != y)\n",
    "print(x >= y)\n",
    "print(x <= y)"
   ]
  },
  {
   "cell_type": "code",
   "execution_count": 11,
   "metadata": {},
   "outputs": [
    {
     "name": "stdout",
     "output_type": "stream",
     "text": [
      "False\n"
     ]
    }
   ],
   "source": [
    "# logical operators\n",
    "# and / or / not\n",
    "\n",
    "age = 20\n",
    "x = 10\n",
    "\n",
    "print( not age >= 18)"
   ]
  },
  {
   "cell_type": "code",
   "execution_count": 39,
   "metadata": {},
   "outputs": [
    {
     "name": "stdout",
     "output_type": "stream",
     "text": [
      "['ali', 'hasan', 'reza', 'rambod', 'hossein', 1, False, 'c', -1.56]\n",
      "['maryam', 'maryam', 'reza', 'rambod', 'hossein', 1, False, 'c', -1.56]\n",
      "9\n",
      "<class 'list'>\n"
     ]
    }
   ],
   "source": [
    "# List\n",
    "name_list = [\"ali\", \"hasan\", \"reza\", \"rambod\", \"hossein\", 1, False, 'c', -1.56]\n",
    "print(name_list)\n",
    "\n",
    "# Changeable\n",
    "name_list[0] = \"maryam\"\n",
    "name_list[1] = \"maryam\"\n",
    "\n",
    "print(name_list)\n",
    "\n",
    "print(len(name_list))\n",
    "print(type(name_list))\n"
   ]
  },
  {
   "cell_type": "code",
   "execution_count": 28,
   "metadata": {},
   "outputs": [
    {
     "name": "stdout",
     "output_type": "stream",
     "text": [
      "('ali', 'hasan', 'reza')\n",
      "3\n",
      "<class 'tuple'>\n"
     ]
    }
   ],
   "source": [
    "# Tuple\n",
    "name_tuple = (\"ali\", \"hasan\", \"reza\")\n",
    "\n",
    "print(name_tuple)\n",
    "\n",
    "#unchangeable\n",
    "#name_tuple[0] = \"maryam\"\n",
    "\n",
    "\n",
    "print(len(name_tuple))\n",
    "print(type(name_tuple))"
   ]
  },
  {
   "cell_type": "code",
   "execution_count": 32,
   "metadata": {},
   "outputs": [
    {
     "name": "stdout",
     "output_type": "stream",
     "text": [
      "{'hasan', 'reza', 'ali'}\n",
      "3\n"
     ]
    }
   ],
   "source": [
    "# Sets\n",
    "name_set = {\"ali\", \"hasan\", \"reza\"}\n",
    "\n",
    "print(name_set)\n",
    "\n",
    "print(len(name_set))"
   ]
  },
  {
   "cell_type": "code",
   "execution_count": 37,
   "metadata": {},
   "outputs": [
    {
     "name": "stdout",
     "output_type": "stream",
     "text": [
      "{'brand': 'BMW', 'model': '630i', 'year': 2003}\n",
      "2003\n"
     ]
    }
   ],
   "source": [
    "# Dictionaries\n",
    "# key-value pair\n",
    "\n",
    "my_car = {\n",
    "    \"brand\": \"BMW\",\n",
    "    \"model\": \"630i\",\n",
    "    \"year\": 2003\n",
    "}\n",
    "\n",
    "print(my_car)\n",
    "\n",
    "print(my_car[\"year\"])"
   ]
  },
  {
   "cell_type": "code",
   "execution_count": 54,
   "metadata": {},
   "outputs": [
    {
     "name": "stdout",
     "output_type": "stream",
     "text": [
      "b is greater than a!\n"
     ]
    }
   ],
   "source": [
    "# If ... Else ... Elif\n",
    "\n",
    "# Example\n",
    "a = 10\n",
    "b = 100\n",
    "c = 300\n",
    "\n",
    "if a > b:\n",
    "    print(\"a is greater than b!\")\n",
    "elif b > a:\n",
    "    print(\"b is greater than a!\")\n",
    "else: # if a == b\n",
    "    print(\"a is equal to b!\")\n",
    "\n",
    "# Example 2 (str)\n",
    "name_1 = \"rambod\"\n",
    "age_1 = 17\n",
    "name_2 = \"ali\"\n",
    "age_2 = 16\n",
    "\n",
    "if name_2 == \"ali\" and age_2 >= 18:\n",
    "    print(\"you are allowed to enter!\")\n"
   ]
  },
  {
   "cell_type": "code",
   "execution_count": 60,
   "metadata": {},
   "outputs": [
    {
     "name": "stdout",
     "output_type": "stream",
     "text": [
      "1\n",
      "2\n",
      "3\n",
      "4\n",
      "5\n",
      "1\n",
      "2\n",
      "3\n",
      "2\n",
      "4\n",
      "5\n",
      "6\n"
     ]
    }
   ],
   "source": [
    "# Loop\n",
    "# while\n",
    "\n",
    "# Example\n",
    "i = 1\n",
    "while i <= 5:\n",
    "    print(i)\n",
    "    i = i + 1\n",
    "    \n",
    "# i=1 -> 1 -> i=2 -> 2 -> i=3 -> 3 -> i=4 -> 4 -> i=5 -> 5 -> i=6\n",
    "\n",
    "# Example 2 (break)\n",
    "i = 1\n",
    "while i <= 5:\n",
    "    print(i)\n",
    "    if i == 3:\n",
    "        break\n",
    "    i = i + 1\n",
    "\n",
    "\n",
    "# Example 3 (continue)\n",
    "i = 1\n",
    "while i <= 5:\n",
    "    i = i + 1\n",
    "    if i == 3:\n",
    "        continue\n",
    "    print(i)\n"
   ]
  },
  {
   "cell_type": "code",
   "execution_count": 64,
   "metadata": {},
   "outputs": [
    {
     "name": "stdout",
     "output_type": "stream",
     "text": [
      "maryam\n",
      "maryam\n"
     ]
    }
   ],
   "source": [
    "# For loop\n",
    "\n",
    "for a in name_list:\n",
    "    if a == \"maryam\":\n",
    "        print(a)"
   ]
  },
  {
   "cell_type": "code",
   "execution_count": 67,
   "metadata": {},
   "outputs": [
    {
     "name": "stdout",
     "output_type": "stream",
     "text": [
      "Average Grade: 18.166666666666668 out of 20.\n"
     ]
    }
   ],
   "source": [
    "# Example\n",
    "number_list = [20, 19, 18, 20, 15, 17]\n",
    "# Find the average?\n",
    "\n",
    "sum = 0\n",
    "for grade in number_list:\n",
    "    sum += grade\n",
    "\n",
    "print(f\"Average Grade: {sum / len(number_list)} out of 20.\")"
   ]
  },
  {
   "cell_type": "code",
   "execution_count": 69,
   "metadata": {},
   "outputs": [],
   "source": [
    "# Function\n",
    "# input -> f(x) -> output\n",
    "def function_name():\n",
    "    print(\"Function is called!\")"
   ]
  },
  {
   "cell_type": "code",
   "execution_count": 71,
   "metadata": {},
   "outputs": [
    {
     "name": "stdout",
     "output_type": "stream",
     "text": [
      "Function is called!\n",
      "Function is called!\n",
      "Function is called!\n",
      "Function is called!\n"
     ]
    }
   ],
   "source": [
    "# calling a function\n",
    "function_name()\n",
    "function_name()\n",
    "function_name()\n",
    "function_name()"
   ]
  },
  {
   "cell_type": "code",
   "execution_count": 77,
   "metadata": {},
   "outputs": [],
   "source": [
    "# Example: Average function\n",
    "\n",
    "def calculate_average(grade_list):\n",
    "    sum = 0\n",
    "    for grade in grade_list:\n",
    "        sum += grade\n",
    "    return sum / len(grade_list)"
   ]
  },
  {
   "cell_type": "code",
   "execution_count": 79,
   "metadata": {},
   "outputs": [
    {
     "name": "stdout",
     "output_type": "stream",
     "text": [
      "18.166666666666668\n",
      "12.5\n"
     ]
    }
   ],
   "source": [
    "result = calculate_average(number_list)\n",
    "\n",
    "print(result)\n",
    "\n",
    "number_list_2 = [10, 12, 18, 10]\n",
    "result_2 = calculate_average(number_list_2)\n",
    "print(result_2)\n"
   ]
  },
  {
   "cell_type": "code",
   "execution_count": 86,
   "metadata": {},
   "outputs": [],
   "source": [
    "# Example 2: Sum of 3 numbers\n",
    "\n",
    "def calculate_sum(a, b, c):\n",
    "    return a + b + c"
   ]
  },
  {
   "cell_type": "code",
   "execution_count": 85,
   "metadata": {},
   "outputs": [
    {
     "data": {
      "text/plain": [
       "35"
      ]
     },
     "execution_count": 85,
     "metadata": {},
     "output_type": "execute_result"
    }
   ],
   "source": [
    "calculate_sum(10, 20, 5)"
   ]
  }
 ],
 "metadata": {
  "kernelspec": {
   "display_name": "Python 3",
   "language": "python",
   "name": "python3"
  },
  "language_info": {
   "codemirror_mode": {
    "name": "ipython",
    "version": 3
   },
   "file_extension": ".py",
   "mimetype": "text/x-python",
   "name": "python",
   "nbconvert_exporter": "python",
   "pygments_lexer": "ipython3",
   "version": "3.10.7"
  }
 },
 "nbformat": 4,
 "nbformat_minor": 2
}
